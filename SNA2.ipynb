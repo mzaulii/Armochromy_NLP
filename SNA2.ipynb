{
  "nbformat": 4,
  "nbformat_minor": 0,
  "metadata": {
    "colab": {
      "provenance": [],
      "include_colab_link": true
    },
    "kernelspec": {
      "name": "python3",
      "display_name": "Python 3"
    },
    "language_info": {
      "name": "python"
    }
  },
  "cells": [
    {
      "cell_type": "markdown",
      "metadata": {
        "id": "view-in-github",
        "colab_type": "text"
      },
      "source": [
        "<a href=\"https://colab.research.google.com/github/mzaulii/Armochromy_NaturalLanguageProcessing/blob/master/SNA2.ipynb\" target=\"_parent\"><img src=\"https://colab.research.google.com/assets/colab-badge.svg\" alt=\"Open In Colab\"/></a>"
      ]
    },
    {
      "cell_type": "code",
      "execution_count": null,
      "metadata": {
        "colab": {
          "base_uri": "https://localhost:8080/",
          "height": 275
        },
        "id": "Zu-KPT5K7eUb",
        "outputId": "32856554-64af-433a-f52b-5a563770e1d1"
      },
      "outputs": [
        {
          "output_type": "error",
          "ename": "ParserError",
          "evalue": "Error tokenizing data. C error: Expected 24 fields in line 153290, saw 26\n",
          "traceback": [
            "\u001b[0;31m---------------------------------------------------------------------------\u001b[0m",
            "\u001b[0;31mParserError\u001b[0m                               Traceback (most recent call last)",
            "\u001b[0;32m<ipython-input-5-a055e2fa914b>\u001b[0m in \u001b[0;36m<cell line: 5>\u001b[0;34m()\u001b[0m\n\u001b[1;32m      3\u001b[0m \u001b[0;31m# Carica tutti i dataset\u001b[0m\u001b[0;34m\u001b[0m\u001b[0;34m\u001b[0m\u001b[0m\n\u001b[1;32m      4\u001b[0m \u001b[0mdf_fastfood\u001b[0m \u001b[0;34m=\u001b[0m \u001b[0mpd\u001b[0m\u001b[0;34m.\u001b[0m\u001b[0mread_csv\u001b[0m\u001b[0;34m(\u001b[0m\u001b[0;34m'/fastfood.csv'\u001b[0m\u001b[0;34m)\u001b[0m\u001b[0;34m\u001b[0m\u001b[0;34m\u001b[0m\u001b[0m\n\u001b[0;32m----> 5\u001b[0;31m \u001b[0mdf_pollution\u001b[0m \u001b[0;34m=\u001b[0m \u001b[0mpd\u001b[0m\u001b[0;34m.\u001b[0m\u001b[0mread_csv\u001b[0m\u001b[0;34m(\u001b[0m\u001b[0;34m'/pollution.csv'\u001b[0m\u001b[0;34m)\u001b[0m\u001b[0;34m\u001b[0m\u001b[0;34m\u001b[0m\u001b[0m\n\u001b[0m\u001b[1;32m      6\u001b[0m \u001b[0mdf_geo\u001b[0m \u001b[0;34m=\u001b[0m \u001b[0mpd\u001b[0m\u001b[0;34m.\u001b[0m\u001b[0mread_csv\u001b[0m\u001b[0;34m(\u001b[0m\u001b[0;34m'/US_GeoCode.csv'\u001b[0m\u001b[0;34m)\u001b[0m\u001b[0;34m\u001b[0m\u001b[0;34m\u001b[0m\u001b[0m\n\u001b[1;32m      7\u001b[0m \u001b[0mdf_heart\u001b[0m \u001b[0;34m=\u001b[0m \u001b[0mpd\u001b[0m\u001b[0;34m.\u001b[0m\u001b[0mread_csv\u001b[0m\u001b[0;34m(\u001b[0m\u001b[0;34m'/heart_2018.csv'\u001b[0m\u001b[0;34m)\u001b[0m\u001b[0;34m\u001b[0m\u001b[0;34m\u001b[0m\u001b[0m\n",
            "\u001b[0;32m/usr/local/lib/python3.10/dist-packages/pandas/io/parsers/readers.py\u001b[0m in \u001b[0;36mread_csv\u001b[0;34m(filepath_or_buffer, sep, delimiter, header, names, index_col, usecols, dtype, engine, converters, true_values, false_values, skipinitialspace, skiprows, skipfooter, nrows, na_values, keep_default_na, na_filter, verbose, skip_blank_lines, parse_dates, infer_datetime_format, keep_date_col, date_parser, date_format, dayfirst, cache_dates, iterator, chunksize, compression, thousands, decimal, lineterminator, quotechar, quoting, doublequote, escapechar, comment, encoding, encoding_errors, dialect, on_bad_lines, delim_whitespace, low_memory, memory_map, float_precision, storage_options, dtype_backend)\u001b[0m\n\u001b[1;32m    910\u001b[0m     \u001b[0mkwds\u001b[0m\u001b[0;34m.\u001b[0m\u001b[0mupdate\u001b[0m\u001b[0;34m(\u001b[0m\u001b[0mkwds_defaults\u001b[0m\u001b[0;34m)\u001b[0m\u001b[0;34m\u001b[0m\u001b[0;34m\u001b[0m\u001b[0m\n\u001b[1;32m    911\u001b[0m \u001b[0;34m\u001b[0m\u001b[0m\n\u001b[0;32m--> 912\u001b[0;31m     \u001b[0;32mreturn\u001b[0m \u001b[0m_read\u001b[0m\u001b[0;34m(\u001b[0m\u001b[0mfilepath_or_buffer\u001b[0m\u001b[0;34m,\u001b[0m \u001b[0mkwds\u001b[0m\u001b[0;34m)\u001b[0m\u001b[0;34m\u001b[0m\u001b[0;34m\u001b[0m\u001b[0m\n\u001b[0m\u001b[1;32m    913\u001b[0m \u001b[0;34m\u001b[0m\u001b[0m\n\u001b[1;32m    914\u001b[0m \u001b[0;34m\u001b[0m\u001b[0m\n",
            "\u001b[0;32m/usr/local/lib/python3.10/dist-packages/pandas/io/parsers/readers.py\u001b[0m in \u001b[0;36m_read\u001b[0;34m(filepath_or_buffer, kwds)\u001b[0m\n\u001b[1;32m    581\u001b[0m \u001b[0;34m\u001b[0m\u001b[0m\n\u001b[1;32m    582\u001b[0m     \u001b[0;32mwith\u001b[0m \u001b[0mparser\u001b[0m\u001b[0;34m:\u001b[0m\u001b[0;34m\u001b[0m\u001b[0;34m\u001b[0m\u001b[0m\n\u001b[0;32m--> 583\u001b[0;31m         \u001b[0;32mreturn\u001b[0m \u001b[0mparser\u001b[0m\u001b[0;34m.\u001b[0m\u001b[0mread\u001b[0m\u001b[0;34m(\u001b[0m\u001b[0mnrows\u001b[0m\u001b[0;34m)\u001b[0m\u001b[0;34m\u001b[0m\u001b[0;34m\u001b[0m\u001b[0m\n\u001b[0m\u001b[1;32m    584\u001b[0m \u001b[0;34m\u001b[0m\u001b[0m\n\u001b[1;32m    585\u001b[0m \u001b[0;34m\u001b[0m\u001b[0m\n",
            "\u001b[0;32m/usr/local/lib/python3.10/dist-packages/pandas/io/parsers/readers.py\u001b[0m in \u001b[0;36mread\u001b[0;34m(self, nrows)\u001b[0m\n\u001b[1;32m   1702\u001b[0m                     \u001b[0mcolumns\u001b[0m\u001b[0;34m,\u001b[0m\u001b[0;34m\u001b[0m\u001b[0;34m\u001b[0m\u001b[0m\n\u001b[1;32m   1703\u001b[0m                     \u001b[0mcol_dict\u001b[0m\u001b[0;34m,\u001b[0m\u001b[0;34m\u001b[0m\u001b[0;34m\u001b[0m\u001b[0m\n\u001b[0;32m-> 1704\u001b[0;31m                 \u001b[0;34m)\u001b[0m \u001b[0;34m=\u001b[0m \u001b[0mself\u001b[0m\u001b[0;34m.\u001b[0m\u001b[0m_engine\u001b[0m\u001b[0;34m.\u001b[0m\u001b[0mread\u001b[0m\u001b[0;34m(\u001b[0m  \u001b[0;31m# type: ignore[attr-defined]\u001b[0m\u001b[0;34m\u001b[0m\u001b[0;34m\u001b[0m\u001b[0m\n\u001b[0m\u001b[1;32m   1705\u001b[0m                     \u001b[0mnrows\u001b[0m\u001b[0;34m\u001b[0m\u001b[0;34m\u001b[0m\u001b[0m\n\u001b[1;32m   1706\u001b[0m                 )\n",
            "\u001b[0;32m/usr/local/lib/python3.10/dist-packages/pandas/io/parsers/c_parser_wrapper.py\u001b[0m in \u001b[0;36mread\u001b[0;34m(self, nrows)\u001b[0m\n\u001b[1;32m    232\u001b[0m         \u001b[0;32mtry\u001b[0m\u001b[0;34m:\u001b[0m\u001b[0;34m\u001b[0m\u001b[0;34m\u001b[0m\u001b[0m\n\u001b[1;32m    233\u001b[0m             \u001b[0;32mif\u001b[0m \u001b[0mself\u001b[0m\u001b[0;34m.\u001b[0m\u001b[0mlow_memory\u001b[0m\u001b[0;34m:\u001b[0m\u001b[0;34m\u001b[0m\u001b[0;34m\u001b[0m\u001b[0m\n\u001b[0;32m--> 234\u001b[0;31m                 \u001b[0mchunks\u001b[0m \u001b[0;34m=\u001b[0m \u001b[0mself\u001b[0m\u001b[0;34m.\u001b[0m\u001b[0m_reader\u001b[0m\u001b[0;34m.\u001b[0m\u001b[0mread_low_memory\u001b[0m\u001b[0;34m(\u001b[0m\u001b[0mnrows\u001b[0m\u001b[0;34m)\u001b[0m\u001b[0;34m\u001b[0m\u001b[0;34m\u001b[0m\u001b[0m\n\u001b[0m\u001b[1;32m    235\u001b[0m                 \u001b[0;31m# destructive to chunks\u001b[0m\u001b[0;34m\u001b[0m\u001b[0;34m\u001b[0m\u001b[0m\n\u001b[1;32m    236\u001b[0m                 \u001b[0mdata\u001b[0m \u001b[0;34m=\u001b[0m \u001b[0m_concatenate_chunks\u001b[0m\u001b[0;34m(\u001b[0m\u001b[0mchunks\u001b[0m\u001b[0;34m)\u001b[0m\u001b[0;34m\u001b[0m\u001b[0;34m\u001b[0m\u001b[0m\n",
            "\u001b[0;32m/usr/local/lib/python3.10/dist-packages/pandas/_libs/parsers.pyx\u001b[0m in \u001b[0;36mpandas._libs.parsers.TextReader.read_low_memory\u001b[0;34m()\u001b[0m\n",
            "\u001b[0;32m/usr/local/lib/python3.10/dist-packages/pandas/_libs/parsers.pyx\u001b[0m in \u001b[0;36mpandas._libs.parsers.TextReader._read_rows\u001b[0;34m()\u001b[0m\n",
            "\u001b[0;32m/usr/local/lib/python3.10/dist-packages/pandas/_libs/parsers.pyx\u001b[0m in \u001b[0;36mpandas._libs.parsers.TextReader._tokenize_rows\u001b[0;34m()\u001b[0m\n",
            "\u001b[0;32m/usr/local/lib/python3.10/dist-packages/pandas/_libs/parsers.pyx\u001b[0m in \u001b[0;36mpandas._libs.parsers.TextReader._check_tokenize_status\u001b[0;34m()\u001b[0m\n",
            "\u001b[0;32m/usr/local/lib/python3.10/dist-packages/pandas/_libs/parsers.pyx\u001b[0m in \u001b[0;36mpandas._libs.parsers.raise_parser_error\u001b[0;34m()\u001b[0m\n",
            "\u001b[0;31mParserError\u001b[0m: Error tokenizing data. C error: Expected 24 fields in line 153290, saw 26\n"
          ]
        }
      ],
      "source": [
        "import pandas as pd\n",
        "\n",
        "# Carica tutti i dataset\n",
        "df_fastfood = pd.read_csv('/fastfood.csv')\n",
        "df_pollution = pd.read_csv('/pollution.csv')\n",
        "df_geo = pd.read_csv('/US_GeoCode.csv')\n",
        "df_heart = pd.read_csv('/heart_2018.csv')\n",
        "\n",
        "# Seleziona solo le colonne che ci interessano in ogni dataset\n",
        "df_subset_fastfood = df_fastfood[[\"num\", \"State\", \"latitude\", \"longitude\", \"name\"]]\n",
        "df_subset_pollution = df_pollution[[\"Year\", \"State\", \"O3 Mean\", \"CO Mean\", \"SO2 Mean\", \"NO2 Mean\"]]\n",
        "df_subset_GEO = df_geo[[\"latitude\", \"longitude\", \"State\"]]\n",
        "df_subset_heart = df_heart[[\"YEAR\", \"State\", \"RATE\", \"DEATHS\"]]\n",
        "\n",
        "# Dizionario per mappare le sigle delle province ai loro nomi completi\n",
        "province_mapping = {\n",
        "    \"AL\": \"Alabama\",\n",
        "    \"AK\": \"Alaska\",\n",
        "    \"AZ\": \"Arizona\",\n",
        "    \"AR\": \"Arkansas\",\n",
        "    \"CA\": \"California\",\n",
        "    \"CO\": \"Colorado\",\n",
        "    \"CT\": \"Connecticut\",\n",
        "    \"DE\": \"Delaware\",\n",
        "    \"FL\": \"Florida\",\n",
        "    \"GA\": \"Georgia\",\n",
        "    \"HI\": \"Hawaii\",\n",
        "    \"ID\": \"Idaho\",\n",
        "    \"IL\": \"Illinois\",\n",
        "    \"IN\": \"Indiana\",\n",
        "    \"IA\": \"Iowa\",\n",
        "    \"KS\": \"Kansas\",\n",
        "    \"KY\": \"Kentucky\",\n",
        "    \"LA\": \"Louisiana\",\n",
        "    \"ME\": \"Maine\",\n",
        "    \"MD\": \"Maryland\",\n",
        "    \"MA\": \"Massachusetts\",\n",
        "    \"MI\": \"Michigan\",\n",
        "    \"MN\": \"Minnesota\",\n",
        "    \"MS\": \"Mississippi\",\n",
        "    \"MO\": \"Missouri\",\n",
        "    \"MT\": \"Montana\",\n",
        "    \"NE\": \"Nebraska\",\n",
        "    \"NV\": \"Nevada\",\n",
        "    \"NH\": \"New Hampshire\",\n",
        "    \"NJ\": \"New Jersey\",\n",
        "    \"NM\": \"New Mexico\",\n",
        "    \"NY\": \"New York\",\n",
        "    \"NC\": \"North Carolina\",\n",
        "    \"ND\": \"North Dakota\",\n",
        "    \"OH\": \"Ohio\",\n",
        "    \"OK\": \"Oklahoma\",\n",
        "    \"OR\": \"Oregon\",\n",
        "    \"PA\": \"Pennsylvania\",\n",
        "    \"RI\": \"Rhode Island\",\n",
        "    \"SC\": \"South Carolina\",\n",
        "    \"SD\": \"South Dakota\",\n",
        "    \"TN\": \"Tennessee\",\n",
        "    \"TX\": \"Texas\",\n",
        "    \"UT\": \"Utah\",\n",
        "    \"VT\": \"Vermont\",\n",
        "    \"VA\": \"Virginia\",\n",
        "    \"WA\": \"Washington\",\n",
        "    \"WV\": \"West Virginia\",\n",
        "    \"WI\": \"Wisconsin\",\n",
        "    \"WY\": \"Wyoming\"\n",
        "}\n",
        "\n",
        "# Sostituisci le sigle delle province con i loro nomi completi\n",
        "df_subset_fastfood[\"State\"] = df_subset_fastfood[\"State\"].map(province_mapping)\n",
        "df_subset_heart[\"State\"] = df_subset_heart[\"State\"].map(province_mapping)\n",
        "\n",
        "print(df_subset_pollution)\n"
      ]
    },
    {
      "cell_type": "markdown",
      "source": [
        "**prendiamo dai dataset solamente quelli del 2018**"
      ],
      "metadata": {
        "id": "P-bI3v4ZcVn0"
      }
    },
    {
      "cell_type": "markdown",
      "source": [],
      "metadata": {
        "id": "5lKXFBtHSUeU"
      }
    },
    {
      "cell_type": "code",
      "source": [
        "df_pollution_2018 = df_subset_pollution[df_subset_pollution['Year'] == 2018]\n",
        "\n",
        "print(df_pollution_2018)\n",
        "\n",
        "df_heart_2018 = df_subset_heart[df_subset_heart['YEAR'] == 2018]\n",
        "\n",
        "pollution_df = df_pollution_2018.groupby('State').mean()"
      ],
      "metadata": {
        "colab": {
          "base_uri": "https://localhost:8080/",
          "height": 216
        },
        "id": "W4gmRwMsgXif",
        "outputId": "da9bb853-2853-4949-982a-bebfef72e394"
      },
      "execution_count": null,
      "outputs": [
        {
          "output_type": "error",
          "ename": "NameError",
          "evalue": "name 'df_subset_pollution' is not defined",
          "traceback": [
            "\u001b[0;31m---------------------------------------------------------------------------\u001b[0m",
            "\u001b[0;31mNameError\u001b[0m                                 Traceback (most recent call last)",
            "\u001b[0;32m<ipython-input-2-69367b51e571>\u001b[0m in \u001b[0;36m<cell line: 1>\u001b[0;34m()\u001b[0m\n\u001b[0;32m----> 1\u001b[0;31m \u001b[0mdf_pollution_2018\u001b[0m \u001b[0;34m=\u001b[0m \u001b[0mdf_subset_pollution\u001b[0m\u001b[0;34m[\u001b[0m\u001b[0mdf_subset_pollution\u001b[0m\u001b[0;34m[\u001b[0m\u001b[0;34m'Year'\u001b[0m\u001b[0;34m]\u001b[0m \u001b[0;34m==\u001b[0m \u001b[0;36m2018\u001b[0m\u001b[0;34m]\u001b[0m\u001b[0;34m\u001b[0m\u001b[0;34m\u001b[0m\u001b[0m\n\u001b[0m\u001b[1;32m      2\u001b[0m \u001b[0;34m\u001b[0m\u001b[0m\n\u001b[1;32m      3\u001b[0m \u001b[0mprint\u001b[0m\u001b[0;34m(\u001b[0m\u001b[0mdf_pollution_2018\u001b[0m\u001b[0;34m)\u001b[0m\u001b[0;34m\u001b[0m\u001b[0;34m\u001b[0m\u001b[0m\n\u001b[1;32m      4\u001b[0m \u001b[0;34m\u001b[0m\u001b[0m\n\u001b[1;32m      5\u001b[0m \u001b[0mdf_heart_2018\u001b[0m \u001b[0;34m=\u001b[0m \u001b[0mdf_subset_heart\u001b[0m\u001b[0;34m[\u001b[0m\u001b[0mdf_subset_heart\u001b[0m\u001b[0;34m[\u001b[0m\u001b[0;34m'YEAR'\u001b[0m\u001b[0;34m]\u001b[0m \u001b[0;34m==\u001b[0m \u001b[0;36m2018\u001b[0m\u001b[0;34m]\u001b[0m\u001b[0;34m\u001b[0m\u001b[0;34m\u001b[0m\u001b[0m\n",
            "\u001b[0;31mNameError\u001b[0m: name 'df_subset_pollution' is not defined"
          ]
        }
      ]
    },
    {
      "cell_type": "markdown",
      "source": [
        "**Manipolazione del dataset \"df_pollution_2018\"**"
      ],
      "metadata": {
        "id": "bQuszwtwnGTz"
      }
    },
    {
      "cell_type": "code",
      "source": [],
      "metadata": {
        "id": "2RKtsCJanFYS"
      },
      "execution_count": null,
      "outputs": []
    },
    {
      "cell_type": "markdown",
      "source": [
        "**mergiamo i dataset per avere dei dataset più utili**"
      ],
      "metadata": {
        "id": "XtpAwVp0lLPj"
      }
    },
    {
      "cell_type": "code",
      "source": [
        "fastfood_df = pd.merge(df_subset_fastfood, df_subset_GEO, left_on=\"State\", right_on=\"State\", how=\"inner\")\n",
        "\n",
        "heart_df = pd.merge(df_heart_2018, df_subset_GEO, left_on=\"State\", right_on=\"State\", how=\"inner\")\n",
        "\n",
        "print(fastfood_df)"
      ],
      "metadata": {
        "colab": {
          "base_uri": "https://localhost:8080/"
        },
        "id": "0yHLNORzGCFE",
        "outputId": "f3a61fd9-9e91-4718-cada-49fbe9beed8f"
      },
      "execution_count": null,
      "outputs": [
        {
          "output_type": "stream",
          "name": "stdout",
          "text": [
            "    YEAR           State   RATE DEATHS   latitude   longitude\n",
            "0   2018         Alabama  224.7  13473  32.318231  -86.902298\n",
            "1   2018          Alaska  129.7    815  63.588753 -154.493062\n",
            "2   2018         Arizona  136.4  12455  34.048928 -111.093731\n",
            "3   2018        Arkansas  217.4   8171  35.201050  -91.831833\n",
            "4   2018      California  139.7  62547  36.778261 -119.417932\n",
            "5   2018        Colorado  124.3   7370  39.550051 -105.782067\n",
            "6   2018     Connecticut  142.1   7205  41.603221  -73.087749\n",
            "7   2018        Delaware  159.1   2030  38.910832  -75.527670\n",
            "8   2018         Florida  143.1  47027  27.664827  -81.515754\n",
            "9   2018         Georgia  175.8  18986  32.157435  -82.907123\n",
            "10  2018          Hawaii  125.6   2570  19.898682 -155.665857\n",
            "11  2018           Idaho  157.9   3122  44.068202 -114.742041\n",
            "12  2018        Illinois  163.9  25755  40.633125  -89.398528\n",
            "13  2018         Indiana  180.7  14532  40.551217  -85.602364\n",
            "14  2018            Iowa  165.1   7185  41.878003  -93.097702\n",
            "15  2018          Kansas  158.9   5823  39.011902  -98.484246\n",
            "16  2018        Kentucky  198.3  10697  37.839333  -84.270018\n",
            "17  2018       Louisiana  212.2  11340  31.244823  -92.145024\n",
            "18  2018           Maine  147.0   2965  45.253783  -69.445469\n",
            "19  2018        Maryland  161.9  11683  39.045755  -76.641271\n",
            "20  2018   Massachusetts  131.5  12036  42.407211  -71.382437\n",
            "21  2018        Michigan  195.0  25354  44.314844  -85.602364\n",
            "22  2018       Minnesota  119.0   8408  46.729553  -94.685900\n",
            "23  2018     Mississippi  222.1   7758  32.354668  -89.398528\n",
            "24  2018        Missouri  188.4  14893  37.964253  -91.831833\n",
            "25  2018         Montana  163.2   2347  46.879682 -110.362566\n",
            "26  2018        Nebraska  145.7   3539  41.492537  -99.901813\n",
            "27  2018          Nevada  190.7   6393  38.802610 -116.419389\n",
            "28  2018   New Hampshire  151.0   2786  43.193852  -71.572395\n",
            "29  2018      New Jersey  163.0  19047  40.058324  -74.405661\n",
            "30  2018      New Mexico  148.2   3935  34.972730 -105.032363\n",
            "31  2018        New York  171.9  44499  43.299428  -74.217933\n",
            "32  2018  North Carolina  155.5  19222  35.759573  -79.019300\n",
            "33  2018    North Dakota  140.0   1361  47.551493 -101.002012\n",
            "34  2018            Ohio  191.1  29220  40.417287  -82.907123\n",
            "35  2018        Oklahoma  228.5  10634  35.007752  -97.092877\n",
            "36  2018          Oregon  128.4   6820  43.804133 -120.554201\n",
            "37  2018    Pennsylvania  176.1  32768  41.203322  -77.194525\n",
            "38  2018    Rhode Island  158.9   2411  41.580095  -71.477429\n",
            "39  2018  South Carolina  167.0  10464  33.836081  -81.163725\n",
            "40  2018    South Dakota  156.3   1796  43.969515  -99.901813\n",
            "41  2018       Tennessee  202.4  16417  35.517491  -86.580447\n",
            "42  2018           Texas  170.0  46763  31.968599  -99.901813\n",
            "43  2018            Utah  146.4   3749  39.320980 -111.093731\n",
            "44  2018         Vermont  150.5   1338  44.558803  -72.577841\n",
            "45  2018        Virginia  147.9  14600  37.431573  -78.656894\n",
            "46  2018      Washington  135.4  11655  47.751074 -120.740139\n",
            "47  2018   West Virginia  196.4   5007  38.597626  -80.454903\n",
            "48  2018       Wisconsin  157.8  12061  43.784440  -88.787868\n",
            "49  2018         Wyoming  152.7   1054  43.075968 -107.290284\n",
            "50\n"
          ]
        }
      ]
    }
  ]
}